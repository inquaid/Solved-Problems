{
 "cells": [
  {
   "cell_type": "code",
   "execution_count": 2,
   "id": "4f41dc65",
   "metadata": {},
   "outputs": [],
   "source": [
    "import numpy as np"
   ]
  },
  {
   "cell_type": "code",
   "execution_count": 3,
   "id": "1ce85bce",
   "metadata": {},
   "outputs": [
    {
     "data": {
      "text/plain": [
       "array([0., 0., 0., 0., 0.])"
      ]
     },
     "execution_count": 3,
     "metadata": {},
     "output_type": "execute_result"
    }
   ],
   "source": [
    "np.zeros(5)"
   ]
  },
  {
   "cell_type": "code",
   "execution_count": 5,
   "id": "3bc91b5b",
   "metadata": {},
   "outputs": [
    {
     "data": {
      "text/plain": [
       "array([[0., 0., 0., 0.],\n",
       "       [0., 0., 0., 0.],\n",
       "       [0., 0., 0., 0.]])"
      ]
     },
     "execution_count": 5,
     "metadata": {},
     "output_type": "execute_result"
    }
   ],
   "source": [
    "np.zeros((3, 4))  # Create a 3x4 array filled with zeros"
   ]
  },
  {
   "cell_type": "code",
   "execution_count": 7,
   "id": "db367627",
   "metadata": {},
   "outputs": [
    {
     "data": {
      "text/plain": [
       "array([[[0., 0., 0., 0.],\n",
       "        [0., 0., 0., 0.],\n",
       "        [0., 0., 0., 0.]],\n",
       "\n",
       "       [[0., 0., 0., 0.],\n",
       "        [0., 0., 0., 0.],\n",
       "        [0., 0., 0., 0.]]])"
      ]
     },
     "execution_count": 7,
     "metadata": {},
     "output_type": "execute_result"
    }
   ],
   "source": [
    "np.zeros((2, 3, 4))  # Create a 2x3x4 array filled with zeros"
   ]
  },
  {
   "cell_type": "code",
   "execution_count": 8,
   "id": "3cd3c21e",
   "metadata": {},
   "outputs": [],
   "source": [
    "a = np.zeros((3, 4))"
   ]
  },
  {
   "cell_type": "code",
   "execution_count": 9,
   "id": "af2ede3e",
   "metadata": {},
   "outputs": [
    {
     "data": {
      "text/plain": [
       "(3, 4)"
      ]
     },
     "execution_count": 9,
     "metadata": {},
     "output_type": "execute_result"
    }
   ],
   "source": [
    "a.shape"
   ]
  },
  {
   "cell_type": "code",
   "execution_count": 10,
   "id": "a726fabf",
   "metadata": {},
   "outputs": [
    {
     "data": {
      "text/plain": [
       "2"
      ]
     },
     "execution_count": 10,
     "metadata": {},
     "output_type": "execute_result"
    }
   ],
   "source": [
    "a.ndim"
   ]
  },
  {
   "cell_type": "code",
   "execution_count": 13,
   "id": "4643c3fe",
   "metadata": {},
   "outputs": [
    {
     "data": {
      "text/plain": [
       "12"
      ]
     },
     "execution_count": 13,
     "metadata": {},
     "output_type": "execute_result"
    }
   ],
   "source": [
    "a.size"
   ]
  },
  {
   "cell_type": "code",
   "execution_count": 17,
   "id": "a8ef1c39",
   "metadata": {},
   "outputs": [
    {
     "data": {
      "text/plain": [
       "numpy.ndarray"
      ]
     },
     "execution_count": 17,
     "metadata": {},
     "output_type": "execute_result"
    }
   ],
   "source": [
    "type(np.zeros((3,4,5)))"
   ]
  },
  {
   "cell_type": "code",
   "execution_count": 18,
   "id": "1abc08ea",
   "metadata": {},
   "outputs": [
    {
     "data": {
      "text/plain": [
       "array([1., 1., 1., 1., 1.])"
      ]
     },
     "execution_count": 18,
     "metadata": {},
     "output_type": "execute_result"
    }
   ],
   "source": [
    "np.ones(5)  # Create a 1D array filled with ones\n"
   ]
  },
  {
   "cell_type": "code",
   "execution_count": 19,
   "id": "c71a3091",
   "metadata": {},
   "outputs": [
    {
     "data": {
      "text/plain": [
       "array([[1., 1., 1., 1.],\n",
       "       [1., 1., 1., 1.],\n",
       "       [1., 1., 1., 1.]])"
      ]
     },
     "execution_count": 19,
     "metadata": {},
     "output_type": "execute_result"
    }
   ],
   "source": [
    "np.ones((3,4))"
   ]
  },
  {
   "cell_type": "code",
   "execution_count": 20,
   "id": "0a0487fa",
   "metadata": {},
   "outputs": [
    {
     "data": {
      "text/plain": [
       "array([[7, 7, 7, 7],\n",
       "       [7, 7, 7, 7],\n",
       "       [7, 7, 7, 7]])"
      ]
     },
     "execution_count": 20,
     "metadata": {},
     "output_type": "execute_result"
    }
   ],
   "source": [
    "np.full((3, 4), 7)  # Create a 3x4 array filled with the value 7"
   ]
  },
  {
   "cell_type": "code",
   "execution_count": 25,
   "id": "58308134",
   "metadata": {},
   "outputs": [
    {
     "data": {
      "text/plain": [
       "array([[[[6.39996470e-310, 4.51696157e-315, 4.51696157e-315,\n",
       "          4.51696157e-315, 0.00000000e+000, 0.00000000e+000],\n",
       "         [6.39994601e-310, 6.39994601e-310, 1.08539798e-071,\n",
       "          0.00000000e+000, 3.95252517e-323, 3.69403214e-033],\n",
       "         [5.20652673e-090, 6.01334510e-154, 5.51675406e-048,\n",
       "          1.31452543e-047, 1.05118789e-153, 5.40224074e-062],\n",
       "         [7.58065797e-096, 1.72586389e-047, 1.48541334e-076,\n",
       "          6.01347002e-154, 3.67210505e-062, 4.08657891e+179],\n",
       "         [4.44895244e-086, 2.42219784e-052, 5.53287452e-048,\n",
       "          8.61487385e-043, 1.14583445e-259, 6.01347002e-154]],\n",
       "\n",
       "        [[4.85785730e-033, 1.08539816e-071, 4.85332880e-033,\n",
       "          3.57280791e-062, 3.69403251e-033, 5.20557167e-090],\n",
       "         [5.98149210e-154, 8.94213159e+130, 5.40224074e-062,\n",
       "          7.58065797e-096, 1.72586389e-047, 1.48541334e-076],\n",
       "         [4.85785730e-033, 1.08539816e-071, 6.01347002e-154,\n",
       "          3.67199563e-062, 3.60030756e+179, 4.44895244e-086],\n",
       "         [2.42219784e-052, 5.53287452e-048, 8.61487385e-043,\n",
       "          5.46599773e-095, 6.01347002e-154, 4.85332880e-033],\n",
       "         [3.57280976e-062, 3.69403251e-033, 5.20652673e-090,\n",
       "          3.67199571e-062, 3.43885027e+179, 5.98149110e-154]],\n",
       "\n",
       "        [[6.01347002e-154, 0.00000000e+000, 0.00000000e+000,\n",
       "          0.00000000e+000, 1.48541282e-076, 4.84503507e-033],\n",
       "         [1.08539816e-071, 6.01346953e-154, 4.49525727e-086,\n",
       "          2.42219784e-052, 5.53287452e-048, 8.61487385e-043],\n",
       "         [1.05118789e-153, 5.40224074e-062, 7.58065797e-096,\n",
       "          6.01347002e-154, 4.85332880e-033, 3.57281347e-062],\n",
       "         [3.69403251e-033, 5.20940315e-090, 3.67199571e-062,\n",
       "          4.08657891e+179, 1.15300713e-259, 6.01347002e-154],\n",
       "         [4.85332880e-033, 3.57280420e-062, 3.69403251e-033,\n",
       "          5.20940315e-090, 3.67199571e-062, 3.92448846e+179]],\n",
       "\n",
       "        [[2.52146305e-314, 6.01346930e-154, 5.40224074e-062,\n",
       "          7.58065797e-096, 1.72586389e-047, 1.48541334e-076],\n",
       "         [4.85785730e-033, 1.08539816e-071, 6.01346953e-154,\n",
       "          4.49525727e-086, 1.51898880e-047, 5.53287452e-048],\n",
       "         [1.31452543e-047, 1.05118789e-153, 5.40224074e-062,\n",
       "          7.58065797e-096, 6.01347002e-154, 4.85332880e-033],\n",
       "         [3.57280976e-062, 3.69403251e-033, 5.20748554e-090,\n",
       "          3.67199571e-062, 3.60030756e+179, 2.44011708e-154],\n",
       "         [6.01347002e-154, 1.72586389e-047, 1.48541334e-076,\n",
       "          4.85785730e-033, 1.08539817e-071, 4.85332880e-033]]],\n",
       "\n",
       "\n",
       "       [[[3.57281347e-062, 6.01346953e-154, 4.44891543e-086,\n",
       "          1.51898880e-047, 5.53287452e-048, 1.31452543e-047],\n",
       "         [1.05118789e-153, 5.40224074e-062, 7.71300305e+140,\n",
       "          6.01347002e-154, 3.69403319e-033, 5.20461286e-090],\n",
       "         [3.67199571e-062, 2.95194575e+179, 4.44895244e-086,\n",
       "          4.27557336e-033, 2.44005307e-154, 6.01347002e-154],\n",
       "         [1.72586389e-047, 1.48541334e-076, 4.85785730e-033,\n",
       "          1.08539817e-071, 4.85332880e-033, 3.57280420e-062],\n",
       "         [6.01334510e-154, 7.42400542e-047, 8.61487385e-043,\n",
       "          1.05118789e-153, 5.40224074e-062, 7.58065797e-096]],\n",
       "\n",
       "        [[1.72586389e-047, 1.48541334e-076, 6.01347002e-154,\n",
       "          3.69403251e-033, 5.20461286e-090, 3.67199571e-062],\n",
       "         [3.76239801e+179, 4.44895244e-086, 4.27557336e-033,\n",
       "          5.49891289e-095, 6.01347002e-154, 3.69403319e-033],\n",
       "         [5.20652673e-090, 3.67199571e-062, 3.60030756e+179,\n",
       "          4.44895244e-086, 4.27557336e-033, 2.44005307e-154],\n",
       "         [6.01347002e-154, 1.72586389e-047, 1.48541334e-076,\n",
       "          4.85785730e-033, 1.08539817e-071, 4.85332880e-033],\n",
       "         [3.57280791e-062, 6.01334510e-154, 7.42400542e-047,\n",
       "          1.31452543e-047, 1.05118789e-153, 5.40224074e-062]],\n",
       "\n",
       "        [[7.58065797e-096, 1.72586389e-047, 1.48541334e-076,\n",
       "          6.01347002e-154, 3.69403251e-033, 5.20748554e-090],\n",
       "         [6.76925746e-043, 4.08467696e+179, 4.44895248e-086,\n",
       "          1.08800803e-071, 1.73837867e-313, 6.01346930e-154],\n",
       "         [4.85785730e-033, 1.08539816e-071, 4.85332880e-033,\n",
       "          3.57280420e-062, 3.69403251e-033, 5.20557167e-090],\n",
       "         [6.01334510e-154, 5.51675406e-048, 1.31452543e-047,\n",
       "          1.05118789e-153, 5.40224074e-062, 7.58065797e-096],\n",
       "         [1.72586389e-047, 1.48541334e-076, 6.01347002e-154,\n",
       "          3.67210505e-062, 4.08657891e+179, 4.44895244e-086]],\n",
       "\n",
       "        [[2.42219784e-052, 5.53287452e-048, 1.31452543e-047,\n",
       "          1.14583445e-259, 6.01347002e-154, 4.85785730e-033],\n",
       "         [1.08539816e-071, 4.85332880e-033, 3.57280606e-062,\n",
       "          3.69403251e-033, 5.20940315e-090, 5.98149210e-154],\n",
       "         [8.94213159e+130, 5.40224074e-062, 7.58065797e-096,\n",
       "          1.72586389e-047, 1.48541334e-076, 4.85785730e-033],\n",
       "         [1.08539818e-071, 6.01347002e-154, 3.67199563e-062,\n",
       "          3.27675982e+179, 4.44895244e-086, 4.27557336e-033],\n",
       "         [5.53287452e-048, 1.31452543e-047, 5.56142452e+141,\n",
       "          6.01347002e-154, 3.67210548e-062, 3.76239801e+179]]],\n",
       "\n",
       "\n",
       "       [[[4.44895244e-086, 1.51898880e-047, 5.53287452e-048,\n",
       "          1.31452543e-047, 1.14583445e-259, 6.01347002e-154],\n",
       "         [4.85785730e-033, 1.08539816e-071, 4.85332880e-033,\n",
       "          3.57281347e-062, 3.69403251e-033, 5.20748554e-090],\n",
       "         [5.98149210e-154, 8.94213159e+130, 5.40224074e-062,\n",
       "          7.58065797e-096, 1.72586389e-047, 1.48541334e-076],\n",
       "         [4.85785730e-033, 1.08539817e-071, 6.01347002e-154,\n",
       "          3.67199563e-062, 3.76239801e+179, 4.44895244e-086],\n",
       "         [4.27557336e-033, 5.53287452e-048, 8.61487385e-043,\n",
       "          5.46599773e-095, 6.01347002e-154, 4.85332880e-033]],\n",
       "\n",
       "        [[3.57280976e-062, 3.69403251e-033, 5.20748554e-090,\n",
       "          3.67199571e-062, 3.60030756e+179, 5.98149110e-154],\n",
       "         [6.01347002e-154, 5.40224074e-062, 7.58065797e-096,\n",
       "          1.72586389e-047, 1.48541334e-076, 4.85785730e-033],\n",
       "         [1.08539817e-071, 6.01346953e-154, 4.49525727e-086,\n",
       "          9.95484498e-043, 5.53287452e-048, 1.31452543e-047],\n",
       "         [1.05118789e-153, 5.40224074e-062, 7.58065797e-096,\n",
       "          6.39988646e-310, 4.85332818e-033, 3.57280976e-062],\n",
       "         [3.69403251e-033, 5.20748554e-090, 3.67199571e-062,\n",
       "          3.76239801e+179, 2.44011708e-154, 6.01347002e-154]],\n",
       "\n",
       "        [[1.72586389e-047, 1.48541334e-076, 4.85785730e-033,\n",
       "          1.08539816e-071, 4.85332880e-033, 3.57280976e-062],\n",
       "         [6.01346953e-154, 4.44891543e-086, 3.69598058e-057,\n",
       "          5.53287452e-048, 8.61487385e-043, 1.05118789e-153],\n",
       "         [5.40224074e-062, 7.71300305e+140, 6.39996365e-310,\n",
       "          6.32898092e-321, 6.39996470e-310, 4.51720244e-315],\n",
       "         [0.00000000e+000, 0.00000000e+000, 6.39996367e-310,\n",
       "          6.39996366e-310, 6.39996366e-310, 6.39996366e-310],\n",
       "         [6.39996375e-310, 6.39996366e-310, 6.39996367e-310,\n",
       "          6.39996369e-310, 6.39996366e-310, 6.39996366e-310]],\n",
       "\n",
       "        [[6.39996374e-310, 6.39996375e-310, 6.39996367e-310,\n",
       "          6.39996367e-310, 6.39996366e-310, 6.39996367e-310],\n",
       "         [6.39996374e-310, 6.39996369e-310, 6.39996375e-310,\n",
       "          6.39996369e-310, 6.39996369e-310, 6.39996369e-310],\n",
       "         [9.88131292e-324, 6.39988659e-310, 6.39993931e-310,\n",
       "          6.39994601e-310, 6.39996374e-310, 0.00000000e+000],\n",
       "         [0.00000000e+000, 0.00000000e+000, 6.39994601e-310,\n",
       "          6.39994601e-310, 0.00000000e+000, 0.00000000e+000],\n",
       "         [0.00000000e+000, 4.74797086e-321, 6.39996470e-310,\n",
       "          6.39996470e-310, 6.39996367e-310, 6.39996374e-310]]]])"
      ]
     },
     "execution_count": 25,
     "metadata": {},
     "output_type": "execute_result"
    }
   ],
   "source": [
    "np.empty((3, 4, 5, 6))  # Create a 3x4 array with uninitialized values"
   ]
  },
  {
   "cell_type": "code",
   "execution_count": 31,
   "id": "c37a6fdc",
   "metadata": {},
   "outputs": [
    {
     "data": {
      "text/plain": [
       "array([[[1, 2, 3, 4],\n",
       "        [5, 6, 7, 8]],\n",
       "\n",
       "       [[2, 2, 1, 2],\n",
       "        [2, 4, 1, 2]]])"
      ]
     },
     "execution_count": 31,
     "metadata": {},
     "output_type": "execute_result"
    }
   ],
   "source": [
    "np.array(\n",
    "    [[[1,2,3,4], [5,6,7,8]], [[2,2,1,2], [2,4,1,2]]]\n",
    ")"
   ]
  },
  {
   "cell_type": "code",
   "execution_count": null,
   "id": "1bbd206f",
   "metadata": {},
   "outputs": [
    {
     "data": {
      "text/plain": [
       "array([ 1,  3,  5,  7,  9, 11, 13])"
      ]
     },
     "execution_count": 40,
     "metadata": {},
     "output_type": "execute_result"
    }
   ],
   "source": [
    "np.arange(1, 14, 2)  # Create an array with values from 1 to 13 with a step of 2"
   ]
  },
  {
   "cell_type": "code",
   "execution_count": 45,
   "id": "a4ae4e48",
   "metadata": {},
   "outputs": [
    {
     "data": {
      "text/plain": [
       "array([ 1.  ,  3.25,  5.5 ,  7.75, 10.  ])"
      ]
     },
     "execution_count": 45,
     "metadata": {},
     "output_type": "execute_result"
    }
   ],
   "source": [
    "np.linspace(1, 10, 5)  # Create an array with 5 evenly spaced values between 1 and 10"
   ]
  },
  {
   "cell_type": "code",
   "execution_count": 46,
   "id": "26ef1e16",
   "metadata": {},
   "outputs": [
    {
     "data": {
      "text/plain": [
       "array([[0.01416374, 0.32445266, 0.68181145, 0.61040032],\n",
       "       [0.53071326, 0.82902447, 0.09227013, 0.61493192],\n",
       "       [0.64478066, 0.63301722, 0.72645362, 0.70083672]])"
      ]
     },
     "execution_count": 46,
     "metadata": {},
     "output_type": "execute_result"
    }
   ],
   "source": [
    "np.random.rand(3, 4)  # Create a 3x4 array with random values between 0 and 1"
   ]
  },
  {
   "cell_type": "code",
   "execution_count": 47,
   "id": "b0d4641b",
   "metadata": {},
   "outputs": [
    {
     "data": {
      "text/plain": [
       "array([[ 1.072046  ,  1.58145875, -0.01114608, -0.33326337],\n",
       "       [ 0.16883504, -0.84946718, -1.02239273,  0.25483492],\n",
       "       [-0.21236077, -0.89326823,  0.67559422,  0.03807061]])"
      ]
     },
     "execution_count": 47,
     "metadata": {},
     "output_type": "execute_result"
    }
   ],
   "source": [
    "np.random.randn(3, 4)  # Create a 3x4 array with random values from a standard normal distribution"
   ]
  },
  {
   "cell_type": "code",
   "execution_count": 48,
   "id": "81ac4dec",
   "metadata": {},
   "outputs": [],
   "source": [
    "import matplotlib.pyplot as plt"
   ]
  },
  {
   "cell_type": "code",
   "execution_count": 51,
   "id": "21249763",
   "metadata": {},
   "outputs": [
    {
     "data": {
      "image/png": "[encoded data removed]",
      "text/plain": [
       "<Figure size 1200x500 with 2 Axes>"
      ]
     },
     "metadata": {},
     "output_type": "display_data"
    }
   ],
   "source": [
    "# Sample data: 100 exam scores between 40 and 100\n",
    "np.random.seed(0)\n",
    "scores = np.random.randint(40, 101, size=100)\n",
    "\n",
    "# Create categories for bar chart example\n",
    "categories = ['Math', 'English', 'Science', 'History']\n",
    "values = [23, 17, 35, 29]  # example counts\n",
    "\n",
    "# Create subplots\n",
    "fig, axes = plt.subplots(1, 2, figsize=(12, 5))\n",
    "\n",
    "# --- Histogram ---\n",
    "axes[0].hist(scores, bins=6, color='skyblue', edgecolor='black')\n",
    "axes[0].set_title('Histogram (Continuous Data)')\n",
    "axes[0].set_xlabel('Score ranges')\n",
    "axes[0].set_ylabel('Number of students')\n",
    "\n",
    "# --- Bar chart ---\n",
    "axes[1].bar(categories, values, color='orange', edgecolor='black')\n",
    "axes[1].set_title('Bar Chart (Categorical Data)')\n",
    "axes[1].set_xlabel('Subjects')\n",
    "axes[1].set_ylabel('Number of students')\n",
    "\n",
    "plt.tight_layout()\n",
    "plt.show()\n"
   ]
  },
  {
   "cell_type": "code",
   "execution_count": 52,
   "id": "e8d2692e",
   "metadata": {},
   "outputs": [
    {
     "data": {
      "text/plain": [
       "(array([0.00266157, 0.        , 0.00266157, 0.00133079, 0.00133079,\n",
       "        0.00399236, 0.00665393, 0.00399236, 0.00532314, 0.00532314,\n",
       "        0.00798471, 0.0093155 , 0.0093155 , 0.00532314, 0.01463864,\n",
       "        0.02395414, 0.02129257, 0.02395414, 0.03193886, 0.03460043,\n",
       "        0.03193886, 0.04125436, 0.04524671, 0.06653929, 0.07053164,\n",
       "        0.08250871, 0.07984714, 0.111786  , 0.11710914, 0.14239407,\n",
       "        0.13440936, 0.16235586, 0.17300214, 0.21159493, 0.17566371,\n",
       "        0.25418007, 0.21292571, 0.27547264, 0.29410364, 0.29277286,\n",
       "        0.36064293, 0.33003486, 0.34999664, 0.36463528, 0.4005665 ,\n",
       "        0.33003486, 0.40455886, 0.40322807, 0.42984378, 0.38858943,\n",
       "        0.40722043, 0.34334271, 0.36862764, 0.37528157, 0.38858943,\n",
       "        0.36995843, 0.36463528, 0.29942678, 0.28212657, 0.33668878,\n",
       "        0.29144207, 0.25950321, 0.26349557, 0.20893336, 0.1583635 ,\n",
       "        0.20361021, 0.167679  , 0.15037879, 0.16634821, 0.12775543,\n",
       "        0.12908621, 0.10779364, 0.08650107, 0.08117793, 0.06387771,\n",
       "        0.06121614, 0.04524671, 0.05323143, 0.037262  , 0.018631  ,\n",
       "        0.018631  , 0.01596943, 0.018631  , 0.01197707, 0.01463864,\n",
       "        0.01064629, 0.00798471, 0.01463864, 0.00532314, 0.00798471,\n",
       "        0.00399236, 0.        , 0.        , 0.00133079, 0.00133079,\n",
       "        0.00133079, 0.00133079, 0.        , 0.        , 0.00133079]),\n",
       " array([-3.70390938, -3.6287658 , -3.55362222, -3.47847865, -3.40333507,\n",
       "        -3.32819149, -3.25304791, -3.17790433, -3.10276075, -3.02761718,\n",
       "        -2.9524736 , -2.87733002, -2.80218644, -2.72704286, -2.65189929,\n",
       "        -2.57675571, -2.50161213, -2.42646855, -2.35132497, -2.2761814 ,\n",
       "        -2.20103782, -2.12589424, -2.05075066, -1.97560708, -1.9004635 ,\n",
       "        -1.82531993, -1.75017635, -1.67503277, -1.59988919, -1.52474561,\n",
       "        -1.44960204, -1.37445846, -1.29931488, -1.2241713 , -1.14902772,\n",
       "        -1.07388415, -0.99874057, -0.92359699, -0.84845341, -0.77330983,\n",
       "        -0.69816625, -0.62302268, -0.5478791 , -0.47273552, -0.39759194,\n",
       "        -0.32244836, -0.24730479, -0.17216121, -0.09701763, -0.02187405,\n",
       "         0.05326953,  0.1284131 ,  0.20355668,  0.27870026,  0.35384384,\n",
       "         0.42898742,  0.504131  ,  0.57927457,  0.65441815,  0.72956173,\n",
       "         0.80470531,  0.87984889,  0.95499246,  1.03013604,  1.10527962,\n",
       "         1.1804232 ,  1.25556678,  1.33071035,  1.40585393,  1.48099751,\n",
       "         1.55614109,  1.63128467,  1.70642825,  1.78157182,  1.8567154 ,\n",
       "         1.93185898,  2.00700256,  2.08214614,  2.15728971,  2.23243329,\n",
       "         2.30757687,  2.38272045,  2.45786403,  2.5330076 ,  2.60815118,\n",
       "         2.68329476,  2.75843834,  2.83358192,  2.9087255 ,  2.98386907,\n",
       "         3.05901265,  3.13415623,  3.20929981,  3.28444339,  3.35958696,\n",
       "         3.43473054,  3.50987412,  3.5850177 ,  3.66016128,  3.73530485,\n",
       "         3.81044843]),\n",
       " [<matplotlib.patches.Polygon at 0x75cfb88cb130>])"
      ]
     },
     "execution_count": 52,
     "metadata": {},
     "output_type": "execute_result"
    },
    {
     "data": {
      "image/png": "[encoded data removed]",
      "text/plain": [
       "<Figure size 640x480 with 1 Axes>"
      ]
     },
     "metadata": {},
     "output_type": "display_data"
    }
   ],
   "source": [
    "plt.hist(np.random.rand(10000), density=True, bins=100, histtype=\"step\", color=\"blue\", label=\"rand\")\n",
    "plt.hist(np.random.randn(10000), density=True, bins=100, histtype=\"step\", color=\"red\", label=\"randn\")\n"
   ]
  },
  {
   "cell_type": "markdown",
   "id": "d9216bea",
   "metadata": {},
   "source": [
    "### normal distribution with mean μ and standard deviation σ\n",
    "data = μ + σ * np.random.randn(n)"
   ]
  },
  {
   "cell_type": "code",
   "execution_count": 66,
   "id": "5ff42916",
   "metadata": {},
   "outputs": [
    {
     "name": "stdout",
     "output_type": "stream",
     "text": [
      "[1 2 3 4]\n",
      "8\n"
     ]
    }
   ],
   "source": [
    "a = np.arange(1, 5, dtype=np.int64)\n",
    "print(a)\n",
    "print(a.itemsize)\n"
   ]
  },
  {
   "cell_type": "code",
   "execution_count": 99,
   "id": "b259b1da",
   "metadata": {},
   "outputs": [],
   "source": [
    "f = np.array([[1, 2], [100, 200]], dtype=np.int32)"
   ]
  },
  {
   "cell_type": "code",
   "execution_count": 100,
   "id": "1a4ba590",
   "metadata": {},
   "outputs": [
    {
     "name": "stdout",
     "output_type": "stream",
     "text": [
      "[[  1   2]\n",
      " [100 200]]\n",
      "<memory at 0x75cfbab5f1d0>\n"
     ]
    }
   ],
   "source": [
    "print(f)\n",
    "print(f.data)"
   ]
  },
  {
   "cell_type": "code",
   "execution_count": 101,
   "id": "0d6213e6",
   "metadata": {},
   "outputs": [
    {
     "name": "stdout",
     "output_type": "stream",
     "text": [
      "3\n"
     ]
    }
   ],
   "source": [
    "if hasattr(f.data, \"tobytes\"):\n",
    "    print(\"3\")\n",
    "else:\n",
    "    print(\"2\")"
   ]
  },
  {
   "cell_type": "code",
   "execution_count": 102,
   "id": "d4c87606",
   "metadata": {},
   "outputs": [],
   "source": [
    "data_bytes = f.data.tobytes()"
   ]
  },
  {
   "cell_type": "code",
   "execution_count": 103,
   "id": "b107ccc3",
   "metadata": {},
   "outputs": [
    {
     "data": {
      "text/plain": [
       "b'\\x01\\x00\\x00\\x00\\x02\\x00\\x00\\x00d\\x00\\x00\\x00\\xc8\\x00\\x00\\x00'"
      ]
     },
     "execution_count": 103,
     "metadata": {},
     "output_type": "execute_result"
    }
   ],
   "source": [
    "data_bytes"
   ]
  },
  {
   "cell_type": "code",
   "execution_count": 112,
   "id": "7b546f2d",
   "metadata": {},
   "outputs": [
    {
     "name": "stdout",
     "output_type": "stream",
     "text": [
      "[ 0  1  2  3  4  5  6  7  8  9 10 11 12 13 14 15 16 17 18 19 20 21 22 23]\n",
      "Rank: 1\n"
     ]
    }
   ],
   "source": [
    "g = np.arange(24)\n",
    "print(g)\n",
    "print(\"Rank:\", g.ndim)"
   ]
  },
  {
   "cell_type": "code",
   "execution_count": 113,
   "id": "d84845f9",
   "metadata": {},
   "outputs": [
    {
     "name": "stdout",
     "output_type": "stream",
     "text": [
      "[[ 0  1  2  3]\n",
      " [ 4  5  6  7]\n",
      " [ 8  9 10 11]\n",
      " [12 13 14 15]\n",
      " [16 17 18 19]\n",
      " [20 21 22 23]]\n",
      "Rank: 2\n"
     ]
    }
   ],
   "source": [
    "g.shape = (6, 4)\n",
    "print(g)\n",
    "print(\"Rank:\", g.ndim)"
   ]
  },
  {
   "cell_type": "code",
   "execution_count": 119,
   "id": "197c60c1",
   "metadata": {},
   "outputs": [
    {
     "name": "stdout",
     "output_type": "stream",
     "text": [
      "[[[ 0  1  2]\n",
      "  [ 3  4  5]\n",
      "  [ 6  7  8]\n",
      "  [ 9 10 11]]\n",
      "\n",
      " [[12 13 14]\n",
      "  [15 16 17]\n",
      "  [18 19 20]\n",
      "  [21 22 23]]]\n",
      "Rank: 3\n"
     ]
    }
   ],
   "source": [
    "g.shape = (2, 4, 3)\n",
    "print(g)\n",
    "print(\"Rank:\", g.ndim)"
   ]
  },
  {
   "cell_type": "code",
   "execution_count": 124,
   "id": "6cc5dfa7",
   "metadata": {},
   "outputs": [],
   "source": [
    "g[0][3][1] = 999"
   ]
  },
  {
   "cell_type": "code",
   "execution_count": 125,
   "id": "70902e85",
   "metadata": {},
   "outputs": [
    {
     "data": {
      "text/plain": [
       "array([[[  0,   1,   2],\n",
       "        [  3,   4,   5],\n",
       "        [  6,   7,   8],\n",
       "        [  9, 999,  11]],\n",
       "\n",
       "       [[ 12,  13,  14],\n",
       "        [ 15,  16,  17],\n",
       "        [ 18,  19,  20],\n",
       "        [ 21,  22,  23]]])"
      ]
     },
     "execution_count": 125,
     "metadata": {},
     "output_type": "execute_result"
    }
   ],
   "source": [
    "g"
   ]
  },
  {
   "cell_type": "code",
   "execution_count": 127,
   "id": "9dec4252",
   "metadata": {},
   "outputs": [],
   "source": [
    "g1 = g.reshape(2, 12)"
   ]
  },
  {
   "cell_type": "code",
   "execution_count": 128,
   "id": "c9586862",
   "metadata": {},
   "outputs": [
    {
     "data": {
      "text/plain": [
       "array([[  0,   1,   2,   3,   4,   5,   6,   7,   8,   9, 999,  11],\n",
       "       [ 12,  13,  14,  15,  16,  17,  18,  19,  20,  21,  22,  23]])"
      ]
     },
     "execution_count": 128,
     "metadata": {},
     "output_type": "execute_result"
    }
   ],
   "source": [
    "g1"
   ]
  },
  {
   "cell_type": "code",
   "execution_count": 133,
   "id": "ba10ac0e",
   "metadata": {},
   "outputs": [],
   "source": [
    "g.shape = (12, 2)"
   ]
  },
  {
   "cell_type": "code",
   "execution_count": 134,
   "id": "66633eec",
   "metadata": {},
   "outputs": [
    {
     "data": {
      "text/plain": [
       "(12, 2)"
      ]
     },
     "execution_count": 134,
     "metadata": {},
     "output_type": "execute_result"
    }
   ],
   "source": [
    "g.shape"
   ]
  },
  {
   "cell_type": "code",
   "execution_count": 140,
   "id": "d5fccfde",
   "metadata": {},
   "outputs": [],
   "source": [
    "h1 = np.arange(5).reshape(1, 1, 5)\n",
    "h2 = np.arange(10, 15)"
   ]
  },
  {
   "cell_type": "code",
   "execution_count": 141,
   "id": "84f98a2e",
   "metadata": {},
   "outputs": [
    {
     "data": {
      "text/plain": [
       "(array([[[0, 1, 2, 3, 4]]]), array([10, 11, 12, 13, 14]))"
      ]
     },
     "execution_count": 141,
     "metadata": {},
     "output_type": "execute_result"
    }
   ],
   "source": [
    "h1, h2"
   ]
  },
  {
   "cell_type": "code",
   "execution_count": 142,
   "id": "4e199fd5",
   "metadata": {},
   "outputs": [
    {
     "name": "stdout",
     "output_type": "stream",
     "text": [
      "[[[ 0 11 24 39 56]]]\n"
     ]
    }
   ],
   "source": [
    "print(h1 * h2)"
   ]
  },
  {
   "cell_type": "code",
   "execution_count": 143,
   "id": "22e5938e",
   "metadata": {},
   "outputs": [
    {
     "data": {
      "text/plain": [
       "array([[[ True,  True,  True, False, False]]])"
      ]
     },
     "execution_count": 143,
     "metadata": {},
     "output_type": "execute_result"
    }
   ],
   "source": [
    "h1 < 3"
   ]
  },
  {
   "cell_type": "code",
   "execution_count": 144,
   "id": "b32c98ae",
   "metadata": {},
   "outputs": [
    {
     "data": {
      "text/plain": [
       "array([[[0, 1, 2, 3, 4]]])"
      ]
     },
     "execution_count": 144,
     "metadata": {},
     "output_type": "execute_result"
    }
   ],
   "source": [
    "h1"
   ]
  },
  {
   "cell_type": "code",
   "execution_count": 145,
   "id": "6ecb93cf",
   "metadata": {},
   "outputs": [
    {
     "name": "stdout",
     "output_type": "stream",
     "text": [
      "2.0\n"
     ]
    }
   ],
   "source": [
    "print(h1.mean())"
   ]
  },
  {
   "cell_type": "code",
   "execution_count": 146,
   "id": "43dedad6",
   "metadata": {},
   "outputs": [
    {
     "name": "stdout",
     "output_type": "stream",
     "text": [
      "min = 1\n",
      "max = 4\n",
      "sum = 10\n",
      "prod = 24\n",
      "std = 1.118033988749895\n",
      "var = 1.25\n"
     ]
    }
   ],
   "source": [
    "for f in (a.min, a.max, a.sum, a.prod, a.std, a.var):\n",
    "    print(f.__name__, \"=\", f())"
   ]
  },
  {
   "cell_type": "code",
   "execution_count": null,
   "id": "98130589",
   "metadata": {},
   "outputs": [],
   "source": []
  }
 ],
 "metadata": {
  "kernelspec": {
   "display_name": "myenv",
   "language": "python",
   "name": "python3"
  },
  "language_info": {
   "codemirror_mode": {
    "name": "ipython",
    "version": 3
   },
   "file_extension": ".py",
   "mimetype": "text/x-python",
   "name": "python",
   "nbconvert_exporter": "python",
   "pygments_lexer": "ipython3",
   "version": "3.10.16"
  }
 },
 "nbformat": 4,
 "nbformat_minor": 5
}
